{
 "cells": [
  {
   "cell_type": "markdown",
   "id": "2e029767",
   "metadata": {},
   "source": [
    "# Assignment\n",
    "## UserInterface\n",
    "#### This Notebook allows the user to use an interface to control a robot in its environment and to see some results with some graph."
   ]
  },
  {
   "cell_type": "markdown",
   "id": "9ba7a9a0",
   "metadata": {},
   "source": [
    "## Mode Cell\n",
    "#### This cell allow the user to choose the mode he want to use for the robot. This is done using three button each of which calls up the service \"/mode\" that allows the set of the mode."
   ]
  },
  {
   "cell_type": "code",
   "execution_count": 1,
   "id": "1f4660f3",
   "metadata": {
    "ExecuteTime": {
     "end_time": "2022-04-21T17:14:40.648605Z",
     "start_time": "2022-04-21T17:14:40.070311Z"
    }
   },
   "outputs": [
    {
     "data": {
      "application/vnd.jupyter.widget-view+json": {
       "model_id": "1bc24a1a35d246779b7d382402b3bf5c",
       "version_major": 2,
       "version_minor": 0
      },
      "text/plain": [
       "Button(description='Mode 1', style=ButtonStyle())"
      ]
     },
     "metadata": {},
     "output_type": "display_data"
    },
    {
     "data": {
      "application/vnd.jupyter.widget-view+json": {
       "model_id": "fe1fe0a35ca14b95aab404c6041341ca",
       "version_major": 2,
       "version_minor": 0
      },
      "text/plain": [
       "Button(description='Mode 2', style=ButtonStyle())"
      ]
     },
     "metadata": {},
     "output_type": "display_data"
    },
    {
     "data": {
      "application/vnd.jupyter.widget-view+json": {
       "model_id": "b9cd967430fa4c4ca2d9c66663578c17",
       "version_major": 2,
       "version_minor": 0
      },
      "text/plain": [
       "Button(description='Mode 3', style=ButtonStyle())"
      ]
     },
     "metadata": {},
     "output_type": "display_data"
    },
    {
     "data": {
      "application/vnd.jupyter.widget-view+json": {
       "model_id": "0ee4813acc004ba480cba164aa61a956",
       "version_major": 2,
       "version_minor": 0
      },
      "text/plain": [
       "Output()"
      ]
     },
     "metadata": {},
     "output_type": "display_data"
    }
   ],
   "source": [
    "import rospy\n",
    "from sensor_msgs.msg import LaserScan\n",
    "from geometry_msgs.msg import Twist\n",
    "from mode_srv.srv import Mode\n",
    "from first_mode_srv.srv import Firstmode\n",
    "from controller_srv.srv import Controller\n",
    "from nav_msgs.msg import Odometry\n",
    "import ipywidgets as widgets\n",
    "from IPython.display import display\n",
    "button1 = widgets.Button(description=\"Mode 1\")\n",
    "button2 = widgets.Button(description=\"Mode 2\")\n",
    "button3 = widgets.Button(description=\"Mode 3\")\n",
    "output = widgets.Output()\n",
    "\n",
    "\n",
    "\n",
    "display(button1)\n",
    "display(button2)\n",
    "display(button3)\n",
    "display(output)\n",
    "\n",
    "def on_button_clicked1(b):    \n",
    "    with output:\n",
    "        rospy.wait_for_service(\"/mode\")\n",
    "        client1 = rospy.ServiceProxy(\"/mode\", Mode)\n",
    "        client1(1, 1)\n",
    "        \n",
    "\n",
    "def on_button_clicked2(b):\n",
    "    with output:\n",
    "        rospy.wait_for_service(\"/mode\")\n",
    "        client1 = rospy.ServiceProxy(\"/mode\", Mode)\n",
    "        client1(1, 2)\n",
    "         \n",
    "\n",
    "def on_button_clicked3(b):\n",
    "    with output:\n",
    "        rospy.wait_for_service(\"/mode\")\n",
    "        client1 = rospy.ServiceProxy(\"/mode\", Mode)\n",
    "        client1(1, 3)\n",
    "        \n",
    "        \n",
    "button1.on_click(on_button_clicked1)\n",
    "button2.on_click(on_button_clicked2)\n",
    "button3.on_click(on_button_clicked3)\n",
    "\n"
   ]
  },
  {
   "cell_type": "markdown",
   "id": "5fb14643",
   "metadata": {},
   "source": [
    "## First Mode\n",
    "#### The user can use this cell to send the goals that the robot have to reach for the first mode. This is done using two FloatText widgets that allow the user to insert the values x and y, than there is a button that, through his callback, call the service \"/first_mode\" that set the goal chosen by the user. "
   ]
  },
  {
   "cell_type": "code",
   "execution_count": 2,
   "id": "899339ca",
   "metadata": {
    "ExecuteTime": {
     "end_time": "2022-04-21T17:14:40.793916Z",
     "start_time": "2022-04-21T17:14:40.668126Z"
    }
   },
   "outputs": [
    {
     "data": {
      "application/vnd.jupyter.widget-view+json": {
       "model_id": "d7df78b4ac084f8d86936044677d10dc",
       "version_major": 2,
       "version_minor": 0
      },
      "text/plain": [
       "FloatText(value=0.0)"
      ]
     },
     "metadata": {},
     "output_type": "display_data"
    },
    {
     "data": {
      "application/vnd.jupyter.widget-view+json": {
       "model_id": "12f47c05223b45809c204a3fddb8856f",
       "version_major": 2,
       "version_minor": 0
      },
      "text/plain": [
       "FloatText(value=0.0)"
      ]
     },
     "metadata": {},
     "output_type": "display_data"
    },
    {
     "data": {
      "application/vnd.jupyter.widget-view+json": {
       "model_id": "4b1f606465fb427d8344d883c43a278e",
       "version_major": 2,
       "version_minor": 0
      },
      "text/plain": [
       "Button(description='Send', style=ButtonStyle())"
      ]
     },
     "metadata": {},
     "output_type": "display_data"
    },
    {
     "data": {
      "application/vnd.jupyter.widget-view+json": {
       "model_id": "c0c68a27610248a58d09c6353c20b073",
       "version_major": 2,
       "version_minor": 0
      },
      "text/plain": [
       "Output()"
      ]
     },
     "metadata": {},
     "output_type": "display_data"
    }
   ],
   "source": [
    "import ipywidgets as widgets\n",
    "\n",
    "x = widgets.FloatText()\n",
    "y = widgets.FloatText()\n",
    "button8 = widgets.Button(description=\"Send\")\n",
    "output = widgets.Output()\n",
    "\n",
    "display(x)\n",
    "display(y)\n",
    "display(button8)\n",
    "display(output)\n",
    "def on_button_clicked8(b):    \n",
    "    with output:\n",
    "        rospy.wait_for_service(\"/first_mode\")\n",
    "        client2 = rospy.ServiceProxy(\"/first_mode\", Firstmode)\n",
    "        client2(1, x.value, y.value)\n",
    "        \n",
    "button8.on_click(on_button_clicked8) "
   ]
  },
  {
   "cell_type": "markdown",
   "id": "a4cbb55e",
   "metadata": {},
   "source": [
    "#### Part of the first mode is the count of the reached goals. In this cell there is a button that the user can press when he want to see the graph of reached goals against total sends goals. This is possible because in the callback of the button is called the \"/reach_goal\"  service that give back the values of total sends goals and reached goals, than these values are used to make the graph."
   ]
  },
  {
   "cell_type": "code",
   "execution_count": 7,
   "id": "03ad8f5d",
   "metadata": {
    "ExecuteTime": {
     "end_time": "2022-04-21T17:15:29.641508Z",
     "start_time": "2022-04-21T17:15:29.530088Z"
    }
   },
   "outputs": [
    {
     "data": {
      "application/vnd.jupyter.widget-view+json": {
       "model_id": "62b03ac557c14c1baa3fc03df910aa2e",
       "version_major": 2,
       "version_minor": 0
      },
      "text/plain": [
       "Button(description='plot', style=ButtonStyle())"
      ]
     },
     "metadata": {},
     "output_type": "display_data"
    },
    {
     "data": {
      "application/vnd.jupyter.widget-view+json": {
       "model_id": "61a98babadf94eaa8f57a326612eb983",
       "version_major": 2,
       "version_minor": 0
      },
      "text/plain": [
       "Output()"
      ]
     },
     "metadata": {},
     "output_type": "display_data"
    }
   ],
   "source": [
    "import matplotlib.pyplot as plt\n",
    "import numpy as np\n",
    "import rospy\n",
    "import tf\n",
    "from nav_msgs.msg import Odometry\n",
    "import ipywidgets as widgets\n",
    "from reach_srv.srv import Reach\n",
    "\n",
    "button9 = widgets.Button(description=\"plot\")\n",
    "output = widgets.Output()\n",
    "\n",
    "display(button9)\n",
    "display(output)\n",
    "def on_button_clicked9(b):    \n",
    "    with output:\n",
    "        rospy.wait_for_service(\"/reach_goal\")\n",
    "        client2 = rospy.ServiceProxy(\"/reach_goal\", Reach)\n",
    "        resp=client2(2, 0, 0)\n",
    "        \n",
    "        tot_goals=resp.goals\n",
    "        reached_goals=resp.reached\n",
    "        index = np.arange(1);\n",
    "        eConf = {'ecolor': '0.3'}\n",
    "        plt.bar(index, tot_goals, align='edge', width=0.35, alpha=0.40,\n",
    "        color='b', error_kw=eConf, label='Tot Goals')\n",
    "        plt.bar(index+0.35, reached_goals, align='edge', width=0.35,\n",
    "        alpha=0.40, color='r', error_kw=eConf, label='Reached goals')\n",
    "        plt.xlabel('Goals')\n",
    "        plt.ylabel('Values')\n",
    "        plt.title('Number of reached point on total sends goals')\n",
    "        plt.xticks(index + 0.35, (''))\n",
    "        plt.legend()\n",
    "        plt.show()\n",
    "\n",
    "button9.on_click(on_button_clicked9) \n",
    "\n",
    "\n"
   ]
  },
  {
   "cell_type": "markdown",
   "id": "82dc8433",
   "metadata": {},
   "source": [
    "## Second and Third Mode\n",
    "#### This cell allow the user to control directly the movements of the robot choosing the direction that the robot have to take. This is done in the same way used for the choose of the mode. There are four button which call the \"/controller\" service that set in the core script witch is the right command. "
   ]
  },
  {
   "cell_type": "code",
   "execution_count": 4,
   "id": "e737236e",
   "metadata": {
    "ExecuteTime": {
     "end_time": "2022-04-21T17:14:41.843070Z",
     "start_time": "2022-04-21T17:14:41.691830Z"
    },
    "scrolled": false
   },
   "outputs": [
    {
     "data": {
      "application/vnd.jupyter.widget-view+json": {
       "model_id": "9ae7e50d92b74d95bda3f170fbb08183",
       "version_major": 2,
       "version_minor": 0
      },
      "text/plain": [
       "Button(description='Go on', style=ButtonStyle())"
      ]
     },
     "metadata": {},
     "output_type": "display_data"
    },
    {
     "data": {
      "application/vnd.jupyter.widget-view+json": {
       "model_id": "8ed07f11914342cb9c0a9bd06bc5c71e",
       "version_major": 2,
       "version_minor": 0
      },
      "text/plain": [
       "Button(description='Stop', style=ButtonStyle())"
      ]
     },
     "metadata": {},
     "output_type": "display_data"
    },
    {
     "data": {
      "application/vnd.jupyter.widget-view+json": {
       "model_id": "fb287f0e0ede49e58d1f2836f3d4e367",
       "version_major": 2,
       "version_minor": 0
      },
      "text/plain": [
       "Button(description='Right', style=ButtonStyle())"
      ]
     },
     "metadata": {},
     "output_type": "display_data"
    },
    {
     "data": {
      "application/vnd.jupyter.widget-view+json": {
       "model_id": "04fa3cea9181479494e6719a7fa1b8eb",
       "version_major": 2,
       "version_minor": 0
      },
      "text/plain": [
       "Button(description='Left', style=ButtonStyle())"
      ]
     },
     "metadata": {},
     "output_type": "display_data"
    },
    {
     "data": {
      "application/vnd.jupyter.widget-view+json": {
       "model_id": "ae2f7f44e3c3499a89d0aeb6f97f9afc",
       "version_major": 2,
       "version_minor": 0
      },
      "text/plain": [
       "Output()"
      ]
     },
     "metadata": {},
     "output_type": "display_data"
    }
   ],
   "source": [
    "button4 = widgets.Button(description=\"Go on\")\n",
    "button5 = widgets.Button(description=\"Stop\")\n",
    "button6 = widgets.Button(description=\"Right\")\n",
    "button7 = widgets.Button(description=\"Left\")\n",
    "output = widgets.Output()\n",
    "\n",
    "\n",
    "\n",
    "display(button4)\n",
    "display(button5)\n",
    "display(button6)\n",
    "display(button7)\n",
    "display(output)\n",
    "#handle changes, the observe method of the widget can be used to register a callback.\n",
    "def on_button_clicked4(b):    \n",
    "    with output:\n",
    "        rospy.wait_for_service(\"/controller\")\n",
    "        client3 = rospy.ServiceProxy(\"/controller\", Controller)\n",
    "        client3(1, 1)\n",
    "        \n",
    "\n",
    "def on_button_clicked5(b):\n",
    "    with output:\n",
    "        rospy.wait_for_service(\"/controller\")\n",
    "        client3 = rospy.ServiceProxy(\"/controller\", Controller)\n",
    "        client3(1, 2)\n",
    "         \n",
    "\n",
    "def on_button_clicked6(b):\n",
    "    with output:\n",
    "        rospy.wait_for_service(\"/controller\")\n",
    "        client3 = rospy.ServiceProxy(\"/controller\", Controller)\n",
    "        client3(1, 3)\n",
    "        \n",
    "def on_button_clicked7(b):\n",
    "    with output:\n",
    "        rospy.wait_for_service(\"/controller\")\n",
    "        client3 = rospy.ServiceProxy(\"/controller\", Controller)\n",
    "        client3(1, 4)\n",
    "        \n",
    "button4.on_click(on_button_clicked4)\n",
    "button5.on_click(on_button_clicked5)\n",
    "button6.on_click(on_button_clicked6)\n",
    "button7.on_click(on_button_clicked7)"
   ]
  },
  {
   "cell_type": "markdown",
   "id": "0806bcad",
   "metadata": {},
   "source": [
    "## Other Graph\n",
    "#### The first graph allow the user to see the position of the robot in real time. This is possible because there is the call to the topic \"/odom\" that give back the coordinates of the robot in the environment, than thanks to the FuncAnimation function, these are plotted."
   ]
  },
  {
   "cell_type": "code",
   "execution_count": 1,
   "id": "8871bccd",
   "metadata": {
    "ExecuteTime": {
     "end_time": "2022-04-22T08:45:06.196096Z",
     "start_time": "2022-04-22T08:45:03.994565Z"
    }
   },
   "outputs": [
    {
     "data": {
      "application/vnd.jupyter.widget-view+json": {
       "model_id": "2d4d1e5e549a4437aaf87282bb40acfe",
       "version_major": 2,
       "version_minor": 0
      },
      "text/plain": [
       "Canvas(toolbar=Toolbar(toolitems=[('Home', 'Reset original view', 'home', 'home'), ('Back', 'Back to previous …"
      ]
     },
     "metadata": {},
     "output_type": "display_data"
    }
   ],
   "source": [
    "import matplotlib.pyplot as plt\n",
    "import rospy\n",
    "import tf\n",
    "from nav_msgs.msg import Odometry\n",
    "from tf.transformations import quaternion_matrix\n",
    "import numpy as np\n",
    "from matplotlib.animation import FuncAnimation\n",
    "\n",
    "%matplotlib widget\n",
    "class Visualiser:\n",
    "    def __init__(self):\n",
    "        self.fig, self.ax = plt.subplots()\n",
    "        self.ln, = self.ax.plot([], [], 'ro')\n",
    "        self.x_data, self.y_data = [], []\n",
    "\n",
    "    def plot_init(self):\n",
    "        self.ax.set_xlim(-10, 10)\n",
    "        self.ax.set_ylim(-10, 10)\n",
    "        return self.ln\n",
    "\n",
    "    def odom_callback(self, msg):\n",
    "        self.y_data.append(msg.pose.pose.position.y)\n",
    "        self.x_data.append(msg.pose.pose.position.x)\n",
    "        \n",
    "    def update_plot(self, frame):\n",
    "        self.ln.set_data(self.x_data, self.y_data)\n",
    "        return self.ln\n",
    "    \n",
    "rospy.init_node('odom_visualizer_node')\n",
    "vis = Visualiser()\n",
    "\n",
    "sub = rospy.Subscriber('/odom', Odometry, vis.odom_callback)\n",
    "ani = FuncAnimation(vis.fig, vis.update_plot, init_func=vis.plot_init)\n",
    "plt.show(block=True)    \n",
    "        "
   ]
  },
  {
   "cell_type": "markdown",
   "id": "99dc2cc9",
   "metadata": {},
   "source": [
    "#### The second graph allow the user to see a 3D map, thanks to the ros3d functions, that show to the user the laser scan of the robot and the map in which the robot is moving."
   ]
  },
  {
   "cell_type": "code",
   "execution_count": 1,
   "id": "04dc9c4d",
   "metadata": {
    "ExecuteTime": {
     "end_time": "2022-04-21T17:17:56.213130Z",
     "start_time": "2022-04-21T17:17:54.694926Z"
    }
   },
   "outputs": [
    {
     "data": {
      "application/vnd.jupyter.widget-view+json": {
       "model_id": "af4368d420074c6180fa609598948dda",
       "version_major": 2,
       "version_minor": 0
      },
      "text/plain": [
       "Viewer(objects=[GridModel(), LaserScan(ros=ROSConnection(url='ws://localhost:9090'), tf_client=TFClient(fixed_…"
      ]
     },
     "metadata": {},
     "output_type": "display_data"
    }
   ],
   "source": [
    "from jupyros import ros3d\n",
    "import os\n",
    "v = ros3d.Viewer()\n",
    "rc = ros3d.ROSConnection(url=\"ws://localhost:9090\")\n",
    "tf_client = ros3d.TFClient(ros=rc, fixed_frame='map')\n",
    "laser_view = ros3d.LaserScan(topic=\"/scan\", ros=rc, tf_client=tf_client)\n",
    "map_view = ros3d.OccupancyGrid(topic=\"/map\", ros=rc, tf_client=tf_client)\n",
    "path = ros3d.Path(topic=\"/move_base/NavfnROS/plan\", ros=rc,\n",
    "tf_client=tf_client)\n",
    "urdf = ros3d.URDFModel(ros=rc, tf_client=tf_client,\n",
    "path=os.environ.get('JUPYROS_ASSETS_URL', 'http://localhost:3000'))\n",
    "g = ros3d.GridModel()\n",
    "v.objects = [g, laser_view, map_view, path, urdf]\n",
    "v"
   ]
  },
  {
   "cell_type": "code",
   "execution_count": null,
   "id": "567a525a",
   "metadata": {},
   "outputs": [],
   "source": []
  }
 ],
 "metadata": {
  "hide_input": false,
  "kernelspec": {
   "display_name": "Python 3 (ipykernel)",
   "language": "python",
   "name": "python3"
  },
  "language_info": {
   "codemirror_mode": {
    "name": "ipython",
    "version": 3
   },
   "file_extension": ".py",
   "mimetype": "text/x-python",
   "name": "python",
   "nbconvert_exporter": "python",
   "pygments_lexer": "ipython3",
   "version": "3.8.5"
  },
  "toc": {
   "base_numbering": 1,
   "nav_menu": {},
   "number_sections": true,
   "sideBar": true,
   "skip_h1_title": false,
   "title_cell": "Table of Contents",
   "title_sidebar": "Contents",
   "toc_cell": false,
   "toc_position": {},
   "toc_section_display": true,
   "toc_window_display": false
  },
  "varInspector": {
   "cols": {
    "lenName": 16,
    "lenType": 16,
    "lenVar": 40
   },
   "kernels_config": {
    "python": {
     "delete_cmd_postfix": "",
     "delete_cmd_prefix": "del ",
     "library": "var_list.py",
     "varRefreshCmd": "print(var_dic_list())"
    },
    "r": {
     "delete_cmd_postfix": ") ",
     "delete_cmd_prefix": "rm(",
     "library": "var_list.r",
     "varRefreshCmd": "cat(var_dic_list()) "
    }
   },
   "types_to_exclude": [
    "module",
    "function",
    "builtin_function_or_method",
    "instance",
    "_Feature"
   ],
   "window_display": false
  }
 },
 "nbformat": 4,
 "nbformat_minor": 5
}
